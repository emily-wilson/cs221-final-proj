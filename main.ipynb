{
  "cells": [
    {
      "metadata": {
        "id": "15add38cd3ffb95c"
      },
      "cell_type": "code",
      "outputs": [],
      "execution_count": null,
      "source": [
        "from google.colab import drive\n",
        "drive.mount('/content/drive')\n",
        "!ls"
      ],
      "id": "15add38cd3ffb95c"
    },
    {
      "cell_type": "code",
      "source": [
        "user = 'emily-wilson'\n",
        "repo = 'cs221-final-proj'\n",
        "\n",
        "url = f\"git+https://github.com/{user}/{repo}.git\"\n",
        "!pip install --upgrade {url}"
      ],
      "metadata": {
        "id": "3Cwp-mgSQwuR"
      },
      "id": "3Cwp-mgSQwuR",
      "execution_count": null,
      "outputs": []
    },
    {
      "metadata": {
        "id": "f6b497b8ce1d15bb"
      },
      "cell_type": "code",
      "outputs": [],
      "execution_count": null,
      "source": [
        "import random\n",
        "from classes.puzzle import Puzzle\n",
        "from classes.csp import CSP\n",
        "from learning.baseline import Baseline\n",
        "from learning.double_backjumping import DoubleBackjumping\n",
        "import json"
      ],
      "id": "f6b497b8ce1d15bb"
    },
    {
      "metadata": {
        "id": "c5968823ed879f96"
      },
      "cell_type": "code",
      "outputs": [],
      "execution_count": null,
      "source": [
        "day = []\n",
        "with open(f'{drive_path}/combined_metadata.json', 'r') as file:\n",
        "    object = json.load(file)\n",
        "    day = object[\"Monday\"]"
      ],
      "id": "c5968823ed879f96"
    },
    {
      "cell_type": "code",
      "execution_count": null,
      "id": "initial_id",
      "metadata": {
        "collapsed": true,
        "id": "initial_id"
      },
      "outputs": [],
      "source": [
        "def test_years(day):\n",
        "    count = 0\n",
        "    baseline_ans_accs = 0\n",
        "    baseline_grid_accs = 0\n",
        "    backjumping_ans_accs = 0\n",
        "    backjumping_grid_accs = 0\n",
        "    for year in range(2004, 2024, 4):\n",
        "        for i in range(4):\n",
        "            date = random.choice(day[f'{year}'])\n",
        "            filename = f'data/{year}/{date}.json'\n",
        "            puzzle = Puzzle(filename)\n",
        "            csp = CSP(puzzle)\n",
        "\n",
        "            baseline = Baseline(csp)\n",
        "            assignment, score = baseline.solve()\n",
        "            # print(assignment)\n",
        "\n",
        "            for k, v in assignment.items():\n",
        "                puzzle.answer(k, v)\n",
        "\n",
        "            ans_acc, grid_acc = csp.getAccuracy(assignment)\n",
        "            # print(f'{year} baseline puzzle accuracy: {ans_acc},{grid_acc}')\n",
        "            baseline_ans_accs += ans_acc\n",
        "            baseline_grid_accs += grid_acc\n",
        "            count += 1\n",
        "\n",
        "            puzzle = Puzzle(filename)\n",
        "            csp = CSP(puzzle)\n",
        "            backjumping = DoubleBackjumping(csp)\n",
        "            assignment = backjumping.solve()\n",
        "            # print(assignment)\n",
        "\n",
        "            # for k, v in assignment.items():\n",
        "            #     puzzle.answer(k, v, force_clear=True)\n",
        "\n",
        "            ans_acc, grid_acc = csp.getAccuracy(assignment)\n",
        "            # print(f'{year} backjumping puzzle accuracy: {ans_acc},{grid_acc}')\n",
        "            backjumping_ans_accs += ans_acc\n",
        "            backjumping_grid_accs += grid_acc\n",
        "\n",
        "        print(f'{year} Baseline: average grid acc: {baseline_grid_accs/count}, average ans acc: {baseline_ans_accs/count}, count: {count}')\n",
        "        print(f'{year} Backjumping: average grid acc: {backjumping_grid_accs/count}, average ans acc: {backjumping_ans_accs/count}, count: {count}')"
      ]
    },
    {
      "metadata": {
        "id": "fe2085b5f514ad1f"
      },
      "cell_type": "code",
      "outputs": [],
      "execution_count": null,
      "source": [
        "test_years(day)"
      ],
      "id": "fe2085b5f514ad1f"
    }
  ],
  "metadata": {
    "kernelspec": {
      "display_name": "Python 3",
      "language": "python",
      "name": "python3"
    },
    "language_info": {
      "codemirror_mode": {
        "name": "ipython",
        "version": 2
      },
      "file_extension": ".py",
      "mimetype": "text/x-python",
      "name": "python",
      "nbconvert_exporter": "python",
      "pygments_lexer": "ipython2",
      "version": "2.7.6"
    },
    "colab": {
      "provenance": []
    }
  },
  "nbformat": 4,
  "nbformat_minor": 5
}