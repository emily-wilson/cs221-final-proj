{
  "cells": [
    {
      "cell_type": "code",
      "source": [
        "%cd /root\n",
        "%ls\n",
        "%rm -rf cs221-final-proj/"
      ],
      "metadata": {
        "id": "b2nwxNogSJv4",
        "outputId": "94dbdb2d-2c21-41d2-c85d-3a3e353497ea",
        "colab": {
          "base_uri": "https://localhost:8080/"
        }
      },
      "id": "b2nwxNogSJv4",
      "execution_count": 1,
      "outputs": [
        {
          "output_type": "stream",
          "name": "stdout",
          "text": [
            "/root\n"
          ]
        }
      ]
    },
    {
      "cell_type": "code",
      "source": [
        "from google.colab import userdata\n",
        "token = userdata.get('github-pat')\n",
        "!git clone https://github.com/emily-wilson/cs221-final-proj.git\n",
        "%cd cs221-final-proj/"
      ],
      "metadata": {
        "id": "3Cwp-mgSQwuR",
        "outputId": "78b72f1f-b81f-47f4-d571-5e937e6aa094",
        "colab": {
          "base_uri": "https://localhost:8080/"
        }
      },
      "id": "3Cwp-mgSQwuR",
      "execution_count": 2,
      "outputs": [
        {
          "output_type": "stream",
          "name": "stdout",
          "text": [
            "Cloning into 'cs221-final-proj'...\n",
            "remote: Enumerating objects: 210, done.\u001b[K\n",
            "remote: Counting objects: 100% (210/210), done.\u001b[K\n",
            "remote: Compressing objects: 100% (126/126), done.\u001b[K\n",
            "remote: Total 210 (delta 141), reused 138 (delta 74), pack-reused 0 (from 0)\u001b[K\n",
            "Receiving objects: 100% (210/210), 46.17 KiB | 1.78 MiB/s, done.\n",
            "Resolving deltas: 100% (141/141), done.\n",
            "/content/cs221-final-proj\n"
          ]
        }
      ]
    },
    {
      "cell_type": "code",
      "source": [
        "%ls"
      ],
      "metadata": {
        "id": "tWHzR68ESQo7",
        "outputId": "e0488abf-7c15-4ff9-be7b-de5963d9c3f5",
        "colab": {
          "base_uri": "https://localhost:8080/"
        }
      },
      "id": "tWHzR68ESQo7",
      "execution_count": 3,
      "outputs": [
        {
          "output_type": "stream",
          "name": "stdout",
          "text": [
            "batch_test.py  \u001b[0m\u001b[01;34mclasses\u001b[0m/  __init__.py  \u001b[01;34mlearning\u001b[0m/  main.ipynb  main.py  requirements.txt  \u001b[01;34mutil\u001b[0m/\n"
          ]
        }
      ]
    },
    {
      "metadata": {
        "id": "f6b497b8ce1d15bb",
        "outputId": "51f1c6df-f09f-4a5c-b11f-d3b11c3029f8",
        "colab": {
          "base_uri": "https://localhost:8080/",
          "height": 613
        }
      },
      "cell_type": "code",
      "outputs": [
        {
          "output_type": "stream",
          "name": "stdout",
          "text": [
            "pygame 2.6.1 (SDL 2.28.4, Python 3.10.12)\n",
            "Hello from the pygame community. https://www.pygame.org/contribute.html\n"
          ]
        },
        {
          "output_type": "error",
          "ename": "ImportError",
          "evalue": "cannot import name 'utils' from 'util' (/content/cs221-final-proj/util/__init__.py)",
          "traceback": [
            "\u001b[0;31m---------------------------------------------------------------------------\u001b[0m",
            "\u001b[0;31mImportError\u001b[0m                               Traceback (most recent call last)",
            "\u001b[0;32m<ipython-input-4-023c04c5ec2b>\u001b[0m in \u001b[0;36m<cell line: 1>\u001b[0;34m()\u001b[0m\n\u001b[0;32m----> 1\u001b[0;31m \u001b[0;32mimport\u001b[0m \u001b[0mbatch_test\u001b[0m\u001b[0;34m\u001b[0m\u001b[0;34m\u001b[0m\u001b[0m\n\u001b[0m\u001b[1;32m      2\u001b[0m \u001b[0mbatch_test\u001b[0m\u001b[0;34m.\u001b[0m\u001b[0mtest_years\u001b[0m\u001b[0;34m(\u001b[0m\u001b[0;34m)\u001b[0m\u001b[0;34m\u001b[0m\u001b[0;34m\u001b[0m\u001b[0m\n",
            "\u001b[0;32m/content/cs221-final-proj/batch_test.py\u001b[0m in \u001b[0;36m<module>\u001b[0;34m\u001b[0m\n\u001b[0;32m----> 1\u001b[0;31m \u001b[0;32mfrom\u001b[0m \u001b[0mclasses\u001b[0m\u001b[0;34m.\u001b[0m\u001b[0mcsp\u001b[0m \u001b[0;32mimport\u001b[0m \u001b[0mCSP\u001b[0m\u001b[0;34m\u001b[0m\u001b[0;34m\u001b[0m\u001b[0m\n\u001b[0m\u001b[1;32m      2\u001b[0m \u001b[0;32mfrom\u001b[0m \u001b[0mclasses\u001b[0m\u001b[0;34m.\u001b[0m\u001b[0mpuzzle\u001b[0m \u001b[0;32mimport\u001b[0m \u001b[0mPuzzle\u001b[0m\u001b[0;34m\u001b[0m\u001b[0;34m\u001b[0m\u001b[0m\n\u001b[1;32m      3\u001b[0m \u001b[0;31m# from learning.basic_backjumping import Backjumping\u001b[0m\u001b[0;34m\u001b[0m\u001b[0;34m\u001b[0m\u001b[0m\n\u001b[1;32m      4\u001b[0m \u001b[0;32mfrom\u001b[0m \u001b[0mlearning\u001b[0m\u001b[0;34m.\u001b[0m\u001b[0mdouble_backjumping\u001b[0m \u001b[0;32mimport\u001b[0m \u001b[0mDoubleBackjumping\u001b[0m\u001b[0;34m\u001b[0m\u001b[0;34m\u001b[0m\u001b[0m\n\u001b[1;32m      5\u001b[0m \u001b[0;32mfrom\u001b[0m \u001b[0mlearning\u001b[0m\u001b[0;34m.\u001b[0m\u001b[0mbaseline\u001b[0m \u001b[0;32mimport\u001b[0m \u001b[0mBaseline\u001b[0m\u001b[0;34m\u001b[0m\u001b[0;34m\u001b[0m\u001b[0m\n",
            "\u001b[0;32m/content/cs221-final-proj/classes/csp.py\u001b[0m in \u001b[0;36m<module>\u001b[0;34m\u001b[0m\n\u001b[1;32m      1\u001b[0m \u001b[0;32mfrom\u001b[0m \u001b[0mtyping\u001b[0m \u001b[0;32mimport\u001b[0m \u001b[0mCallable\u001b[0m\u001b[0;34m\u001b[0m\u001b[0;34m\u001b[0m\u001b[0m\n\u001b[1;32m      2\u001b[0m \u001b[0;32mimport\u001b[0m \u001b[0mrandom\u001b[0m\u001b[0;34m\u001b[0m\u001b[0;34m\u001b[0m\u001b[0m\n\u001b[0;32m----> 3\u001b[0;31m \u001b[0;32mfrom\u001b[0m \u001b[0mclasses\u001b[0m\u001b[0;34m.\u001b[0m\u001b[0mpuzzle\u001b[0m \u001b[0;32mimport\u001b[0m \u001b[0mPuzzle\u001b[0m\u001b[0;34m\u001b[0m\u001b[0;34m\u001b[0m\u001b[0m\n\u001b[0m\u001b[1;32m      4\u001b[0m \u001b[0;34m\u001b[0m\u001b[0m\n\u001b[1;32m      5\u001b[0m \u001b[0;32mclass\u001b[0m \u001b[0mCSP\u001b[0m\u001b[0;34m:\u001b[0m\u001b[0;34m\u001b[0m\u001b[0;34m\u001b[0m\u001b[0m\n",
            "\u001b[0;32m/content/cs221-final-proj/classes/puzzle.py\u001b[0m in \u001b[0;36m<module>\u001b[0;34m\u001b[0m\n\u001b[1;32m      1\u001b[0m \u001b[0;32mimport\u001b[0m \u001b[0mjson\u001b[0m\u001b[0;34m\u001b[0m\u001b[0;34m\u001b[0m\u001b[0m\n\u001b[1;32m      2\u001b[0m \u001b[0;32mimport\u001b[0m \u001b[0mpygame\u001b[0m\u001b[0;34m\u001b[0m\u001b[0;34m\u001b[0m\u001b[0m\n\u001b[0;32m----> 3\u001b[0;31m \u001b[0;32mfrom\u001b[0m \u001b[0mutil\u001b[0m \u001b[0;32mimport\u001b[0m \u001b[0mutils\u001b[0m\u001b[0;34m\u001b[0m\u001b[0;34m\u001b[0m\u001b[0m\n\u001b[0m\u001b[1;32m      4\u001b[0m \u001b[0;32mimport\u001b[0m \u001b[0mpygame\u001b[0m\u001b[0;34m.\u001b[0m\u001b[0mgfxdraw\u001b[0m\u001b[0;34m\u001b[0m\u001b[0;34m\u001b[0m\u001b[0m\n\u001b[1;32m      5\u001b[0m \u001b[0;34m\u001b[0m\u001b[0m\n",
            "\u001b[0;31mImportError\u001b[0m: cannot import name 'utils' from 'util' (/content/cs221-final-proj/util/__init__.py)",
            "",
            "\u001b[0;31m---------------------------------------------------------------------------\u001b[0;32m\nNOTE: If your import is failing due to a missing package, you can\nmanually install dependencies using either !pip or !apt.\n\nTo view examples of installing some common dependencies, click the\n\"Open Examples\" button below.\n\u001b[0;31m---------------------------------------------------------------------------\u001b[0m\n"
          ],
          "errorDetails": {
            "actions": [
              {
                "action": "open_url",
                "actionText": "Open Examples",
                "url": "/notebooks/snippets/importing_libraries.ipynb"
              }
            ]
          }
        }
      ],
      "execution_count": 4,
      "source": [
        "import batch_test\n",
        "batch_test.test_years()"
      ],
      "id": "f6b497b8ce1d15bb"
    },
    {
      "cell_type": "code",
      "source": [
        "from google.colab import drive\n",
        "drive.mount('/content/drive')\n",
        "%cd\n",
        "!ls\n",
        "drive_path = '/content/drive/'"
      ],
      "metadata": {
        "id": "qK1f43edTtic",
        "outputId": "ff4c39e7-7cf9-404d-e36d-e132d4e42ecb",
        "colab": {
          "base_uri": "https://localhost:8080/"
        }
      },
      "id": "qK1f43edTtic",
      "execution_count": 53,
      "outputs": [
        {
          "output_type": "stream",
          "name": "stdout",
          "text": [
            "Drive already mounted at /content/drive; to attempt to forcibly remount, call drive.mount(\"/content/drive\", force_remount=True).\n",
            "/root\n",
            "cs221-final-proj\n"
          ]
        }
      ]
    },
    {
      "metadata": {
        "id": "c5968823ed879f96",
        "outputId": "43f2d006-4714-4756-ddb7-ea5d59045ea1",
        "colab": {
          "base_uri": "https://localhost:8080/",
          "height": 233
        }
      },
      "cell_type": "code",
      "outputs": [
        {
          "output_type": "error",
          "ename": "NameError",
          "evalue": "name 'drive_path' is not defined",
          "traceback": [
            "\u001b[0;31m---------------------------------------------------------------------------\u001b[0m",
            "\u001b[0;31mNameError\u001b[0m                                 Traceback (most recent call last)",
            "\u001b[0;32m<ipython-input-49-c607912504d0>\u001b[0m in \u001b[0;36m<cell line: 2>\u001b[0;34m()\u001b[0m\n\u001b[1;32m      1\u001b[0m \u001b[0mday\u001b[0m \u001b[0;34m=\u001b[0m \u001b[0;34m[\u001b[0m\u001b[0;34m]\u001b[0m\u001b[0;34m\u001b[0m\u001b[0;34m\u001b[0m\u001b[0m\n\u001b[0;32m----> 2\u001b[0;31m \u001b[0;32mwith\u001b[0m \u001b[0mopen\u001b[0m\u001b[0;34m(\u001b[0m\u001b[0;34mf'{drive_path}/combined_metadata.json'\u001b[0m\u001b[0;34m,\u001b[0m \u001b[0;34m'r'\u001b[0m\u001b[0;34m)\u001b[0m \u001b[0;32mas\u001b[0m \u001b[0mfile\u001b[0m\u001b[0;34m:\u001b[0m\u001b[0;34m\u001b[0m\u001b[0;34m\u001b[0m\u001b[0m\n\u001b[0m\u001b[1;32m      3\u001b[0m     \u001b[0mobject\u001b[0m \u001b[0;34m=\u001b[0m \u001b[0mjson\u001b[0m\u001b[0;34m.\u001b[0m\u001b[0mload\u001b[0m\u001b[0;34m(\u001b[0m\u001b[0mfile\u001b[0m\u001b[0;34m)\u001b[0m\u001b[0;34m\u001b[0m\u001b[0;34m\u001b[0m\u001b[0m\n\u001b[1;32m      4\u001b[0m     \u001b[0mday\u001b[0m \u001b[0;34m=\u001b[0m \u001b[0mobject\u001b[0m\u001b[0;34m[\u001b[0m\u001b[0;34m\"Monday\"\u001b[0m\u001b[0;34m]\u001b[0m\u001b[0;34m\u001b[0m\u001b[0;34m\u001b[0m\u001b[0m\n",
            "\u001b[0;31mNameError\u001b[0m: name 'drive_path' is not defined"
          ]
        }
      ],
      "execution_count": 49,
      "source": [
        "day = []\n",
        "with open(f'{drive_path}/combined_metadata.json', 'r') as file:\n",
        "    object = json.load(file)\n",
        "    day = object[\"Monday\"]"
      ],
      "id": "c5968823ed879f96"
    },
    {
      "cell_type": "code",
      "execution_count": null,
      "id": "initial_id",
      "metadata": {
        "collapsed": true,
        "id": "initial_id"
      },
      "outputs": [],
      "source": [
        "def test_years(day):\n",
        "    count = 0\n",
        "    baseline_ans_accs = 0\n",
        "    baseline_grid_accs = 0\n",
        "    backjumping_ans_accs = 0\n",
        "    backjumping_grid_accs = 0\n",
        "    for year in range(2004, 2024, 4):\n",
        "        for i in range(4):\n",
        "            date = random.choice(day[f'{year}'])\n",
        "            filename = f'data/{year}/{date}.json'\n",
        "            puzzle = Puzzle(filename)\n",
        "            csp = CSP(puzzle)\n",
        "\n",
        "            baseline = Baseline(csp)\n",
        "            assignment, score = baseline.solve()\n",
        "            # print(assignment)\n",
        "\n",
        "            for k, v in assignment.items():\n",
        "                puzzle.answer(k, v)\n",
        "\n",
        "            ans_acc, grid_acc = csp.getAccuracy(assignment)\n",
        "            # print(f'{year} baseline puzzle accuracy: {ans_acc},{grid_acc}')\n",
        "            baseline_ans_accs += ans_acc\n",
        "            baseline_grid_accs += grid_acc\n",
        "            count += 1\n",
        "\n",
        "            puzzle = Puzzle(filename)\n",
        "            csp = CSP(puzzle)\n",
        "            backjumping = DoubleBackjumping(csp)\n",
        "            assignment = backjumping.solve()\n",
        "            # print(assignment)\n",
        "\n",
        "            # for k, v in assignment.items():\n",
        "            #     puzzle.answer(k, v, force_clear=True)\n",
        "\n",
        "            ans_acc, grid_acc = csp.getAccuracy(assignment)\n",
        "            # print(f'{year} backjumping puzzle accuracy: {ans_acc},{grid_acc}')\n",
        "            backjumping_ans_accs += ans_acc\n",
        "            backjumping_grid_accs += grid_acc\n",
        "\n",
        "        print(f'{year} Baseline: average grid acc: {baseline_grid_accs/count}, average ans acc: {baseline_ans_accs/count}, count: {count}')\n",
        "        print(f'{year} Backjumping: average grid acc: {backjumping_grid_accs/count}, average ans acc: {backjumping_ans_accs/count}, count: {count}')"
      ]
    },
    {
      "metadata": {
        "id": "fe2085b5f514ad1f"
      },
      "cell_type": "code",
      "outputs": [],
      "execution_count": null,
      "source": [
        "test_years(day)"
      ],
      "id": "fe2085b5f514ad1f"
    }
  ],
  "metadata": {
    "kernelspec": {
      "display_name": "Python 3",
      "language": "python",
      "name": "python3"
    },
    "language_info": {
      "codemirror_mode": {
        "name": "ipython",
        "version": 2
      },
      "file_extension": ".py",
      "mimetype": "text/x-python",
      "name": "python",
      "nbconvert_exporter": "python",
      "pygments_lexer": "ipython2",
      "version": "2.7.6"
    },
    "colab": {
      "provenance": []
    }
  },
  "nbformat": 4,
  "nbformat_minor": 5
}