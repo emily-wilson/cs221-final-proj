{
 "cells": [
  {
   "metadata": {},
   "cell_type": "code",
   "outputs": [],
   "execution_count": null,
   "source": [
    "import random\n",
    "from classes.puzzle import Puzzle\n",
    "from classes.csp import CSP\n",
    "from learning.baseline import Baseline"
   ],
   "id": "f6b497b8ce1d15bb"
  },
  {
   "cell_type": "code",
   "execution_count": null,
   "id": "initial_id",
   "metadata": {
    "collapsed": true
   },
   "outputs": [],
   "source": [
    "ans_accs = 0\n",
    "grid_accs = 0\n",
    "count = 0\n",
    "for i in range(1994, 2024):\n",
    "    filename = f'data/{i}/{random.randint(1, 12)}-{random.randint(1, 28)}-{i}.json'\n",
    "    puzzle = Puzzle(filename)\n",
    "    csp = CSP(puzzle)\n",
    "    baseline = Baseline(csp)\n",
    "    assignment, score = baseline.solve()\n",
    "    print(assignment)\n",
    "\n",
    "    for k, v in assignment.items():\n",
    "        puzzle.answer(k, v)\n",
    "\n",
    "    ans_acc, grid_acc = csp.getAccuracy(assignment)\n",
    "    print(f'puzzle accuracy: {ans_acc},{grid_acc},{score}')\n",
    "    ans_accs += ans_acc\n",
    "    grid_accs += grid_acc\n",
    "    count += 1\n",
    "\n",
    "print(f'average grid acc: {grid_accs/count}, average ans acc: {ans_accs/count}')"
   ]
  }
 ],
 "metadata": {
  "kernelspec": {
   "display_name": "Python 3",
   "language": "python",
   "name": "python3"
  },
  "language_info": {
   "codemirror_mode": {
    "name": "ipython",
    "version": 2
   },
   "file_extension": ".py",
   "mimetype": "text/x-python",
   "name": "python",
   "nbconvert_exporter": "python",
   "pygments_lexer": "ipython2",
   "version": "2.7.6"
  }
 },
 "nbformat": 4,
 "nbformat_minor": 5
}
